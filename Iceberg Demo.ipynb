{
 "cells": [
  {
   "cell_type": "code",
   "execution_count": null,
   "id": "27380f6e-4741-45c9-9071-561df7a3ce64",
   "metadata": {
    "scrolled": true
   },
   "outputs": [],
   "source": [
    "!pip install pyspark\n",
    "!pip install sparksql-magic\n",
    "!mkdir -p $HOME/spark_jars\n",
    "!curl -L -o $HOME/spark_jars/hadoop-aws-3.3.1.jar https://repo1.maven.org/maven2/org/apache/hadoop/hadoop-aws/3.3.1/hadoop-aws-3.3.1.jar\n",
    "!curl -L -o $HOME/spark_jars/aws-java-sdk-bundle-1.11.901.jar https://repo1.maven.org/maven2/com/amazonaws/aws-java-sdk-bundle/1.11.901/aws-java-sdk-bundle-1.11.901.jar"
   ]
  },
  {
   "cell_type": "code",
   "execution_count": 10,
   "id": "5798853d-8314-459c-bd95-f2247e20f123",
   "metadata": {},
   "outputs": [],
   "source": [
    "%load_ext sparksql_magic"
   ]
  },
  {
   "cell_type": "code",
   "execution_count": 11,
   "id": "c83aaf27-fa97-410e-b5ad-7d64ebad7963",
   "metadata": {},
   "outputs": [
    {
     "name": "stdout",
     "output_type": "stream",
     "text": [
      "Spark Running\n"
     ]
    }
   ],
   "source": [
    "from pyspark.sql import SparkSession\n",
    "import pyspark\n",
    "import os\n",
    "\n",
    "jars_dir = os.path.expanduser(\"~/spark_jars\")\n",
    "\n",
    "conf = (\n",
    "    pyspark.SparkConf()\n",
    "        .setAppName('app_name')\n",
    "        .set('spark.jars', f'{jars_dir}/hadoop-aws-3.3.1.jar,{jars_dir}/aws-java-sdk-bundle-1.11.901.jar')\n",
    "        # Packages\n",
    "        .set('spark.jars.packages', 'org.apache.iceberg:iceberg-spark-runtime-3.5_2.12:1.5.2')\n",
    "        # SQL Extensions\n",
    "        .set('spark.sql.extensions', 'org.apache.iceberg.spark.extensions.IcebergSparkSessionExtensions')\n",
    "        # Configuring Catalog\n",
    "        .set('spark.sql.catalog.icebergcat', 'org.apache.iceberg.spark.SparkCatalog')\n",
    "        .set('spark.sql.catalog.icebergcat.type', 'hadoop')\n",
    "        .set('spark.sql.catalog.icebergcat.warehouse', 's3a://iceberg-warehouse')\n",
    "        # MinIO specific configurations\n",
    "        .set('spark.hadoop.fs.s3a.endpoint', 'http://minio:9000')\n",
    "        .set('spark.hadoop.fs.s3a.access.key', 'yr2B94hM8RwzKCeqaDbx')  # Replace with your MinIO access key\n",
    "        .set('spark.hadoop.fs.s3a.secret.key', 'cPA8KzD5cV41U0tXoeKu0mQmAQwSZabOMfOrZg2b')  # Replace with your MinIO secret key\n",
    "        .set('spark.hadoop.fs.s3a.path.style.access', 'true')\n",
    "        .set('spark.hadoop.fs.s3a.impl', 'org.apache.hadoop.fs.s3a.S3AFileSystem')\n",
    "        .set('spark.hadoop.fs.s3a.connection.ssl.enabled', 'false')\n",
    ")\n",
    "\n",
    "spark = SparkSession.builder.config(conf=conf).getOrCreate()\n",
    "print(\"Spark Running\")"
   ]
  },
  {
   "cell_type": "code",
   "execution_count": 24,
   "id": "070d80f4-7162-4528-82ff-ff22920ee34b",
   "metadata": {},
   "outputs": [
    {
     "data": {
      "text/html": [
       "<table><tr style=\"border-bottom: 1px solid\"></tr></table>"
      ],
      "text/plain": [
       "<IPython.core.display.HTML object>"
      ]
     },
     "execution_count": 24,
     "metadata": {},
     "output_type": "execute_result"
    }
   ],
   "source": [
    "%%sparksql\n",
    "\n",
    "CREATE TABLE IF NOT EXISTS icebergcat.nyc.taxis\n",
    "(\n",
    "  vendor_id bigint,\n",
    "  trip_id bigint,\n",
    "  trip_distance float,\n",
    "  fare_amount double,\n",
    "  store_and_fwd_flag string\n",
    ")\n",
    "PARTITIONED BY (vendor_id);"
   ]
  },
  {
   "cell_type": "code",
   "execution_count": 26,
   "id": "d3628fa4-267d-46ae-8e97-599a29ae8ee7",
   "metadata": {},
   "outputs": [
    {
     "data": {
      "text/html": [
       "<table><tr style=\"border-bottom: 1px solid\"></tr></table>"
      ],
      "text/plain": [
       "<IPython.core.display.HTML object>"
      ]
     },
     "execution_count": 26,
     "metadata": {},
     "output_type": "execute_result"
    }
   ],
   "source": [
    "%%sparksql\n",
    "\n",
    "INSERT INTO icebergcat.nyc.taxis\n",
    "VALUES (1, 1000371, 1.8, 15.32, 'N'), (2, 1000372, 2.5, 22.15, 'N'), (2, 1000373, 0.9, 9.01, 'N'), (1, 1000374, 8.4, 42.13, 'Y');"
   ]
  },
  {
   "cell_type": "code",
   "execution_count": 28,
   "id": "f1fe2f3e-8614-461a-853e-04252394f7be",
   "metadata": {},
   "outputs": [
    {
     "name": "stdout",
     "output_type": "stream",
     "text": [
      "cache dataframe with lazy load\n",
      "create temporary view `df`\n"
     ]
    },
    {
     "data": {
      "text/html": [
       "<table><tr style=\"border-bottom: 1px solid\"><td style=\"font-weight: bold\">vendor_id</td><td style=\"font-weight: bold\">trip_id</td><td style=\"font-weight: bold\">trip_distance</td><td style=\"font-weight: bold\">fare_amount</td><td style=\"font-weight: bold\">store_and_fwd_flag</td></tr><tr><td>1</td><td>1000371</td><td>1.7999999523162842</td><td>15.32</td><td>N</td></tr><tr><td>1</td><td>1000374</td><td>8.399999618530273</td><td>42.13</td><td>Y</td></tr><tr><td>2</td><td>1000372</td><td>2.5</td><td>22.15</td><td>N</td></tr><tr><td>2</td><td>1000373</td><td>0.8999999761581421</td><td>9.01</td><td>N</td></tr></table>"
      ],
      "text/plain": [
       "<IPython.core.display.HTML object>"
      ]
     },
     "execution_count": 28,
     "metadata": {},
     "output_type": "execute_result"
    }
   ],
   "source": [
    "%%sparksql -c -v df\n",
    "\n",
    "SELECT * FROM icebergcat.nyc.taxis;"
   ]
  }
 ],
 "metadata": {
  "kernelspec": {
   "display_name": "Python 3 (ipykernel)",
   "language": "python",
   "name": "python3"
  },
  "language_info": {
   "codemirror_mode": {
    "name": "ipython",
    "version": 3
   },
   "file_extension": ".py",
   "mimetype": "text/x-python",
   "name": "python",
   "nbconvert_exporter": "python",
   "pygments_lexer": "ipython3",
   "version": "3.11.6"
  }
 },
 "nbformat": 4,
 "nbformat_minor": 5
}
